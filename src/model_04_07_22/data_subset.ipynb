{
 "cells": [
  {
   "cell_type": "markdown",
   "metadata": {},
   "source": [
    "## Data Subsetting"
   ]
  },
  {
   "cell_type": "code",
   "execution_count": null,
   "metadata": {},
   "outputs": [],
   "source": [
    "import pandas as pd"
   ]
  },
  {
   "cell_type": "code",
   "execution_count": null,
   "metadata": {},
   "outputs": [],
   "source": [
    "BASE = '../../data'\n",
    "FILES = {\n",
    "    'articles': f'{BASE}/articles.csv',\n",
    "    'customers': f'{BASE}/customers.csv',\n",
    "    'transactions': f'{BASE}/transactions_train.csv'\n",
    "}"
   ]
  },
  {
   "cell_type": "code",
   "execution_count": null,
   "metadata": {},
   "outputs": [],
   "source": [
    "transactions = pd.read_csv(FILES['transactions'])"
   ]
  },
  {
   "cell_type": "code",
   "execution_count": 4,
   "metadata": {},
   "outputs": [],
   "source": [
    "trx_grp = transactions.groupby(['customer_id', 'article_id'])[['t_dat', 'price']].agg({'t_dat': 'count', 'price': 'mean'}).rename(columns={'t_dat': 'qty', 'price': 'avg_price'})"
   ]
  },
  {
   "cell_type": "code",
   "execution_count": 5,
   "metadata": {},
   "outputs": [
    {
     "data": {
      "text/html": [
       "<div>\n",
       "<style scoped>\n",
       "    .dataframe tbody tr th:only-of-type {\n",
       "        vertical-align: middle;\n",
       "    }\n",
       "\n",
       "    .dataframe tbody tr th {\n",
       "        vertical-align: top;\n",
       "    }\n",
       "\n",
       "    .dataframe thead th {\n",
       "        text-align: right;\n",
       "    }\n",
       "</style>\n",
       "<table border=\"1\" class=\"dataframe\">\n",
       "  <thead>\n",
       "    <tr style=\"text-align: right;\">\n",
       "      <th></th>\n",
       "      <th></th>\n",
       "      <th>qty</th>\n",
       "      <th>avg_price</th>\n",
       "    </tr>\n",
       "    <tr>\n",
       "      <th>customer_id</th>\n",
       "      <th>article_id</th>\n",
       "      <th></th>\n",
       "      <th></th>\n",
       "    </tr>\n",
       "  </thead>\n",
       "  <tbody>\n",
       "    <tr>\n",
       "      <th rowspan=\"15\" valign=\"top\">00000dbacae5abe5e23885899a1fa44253a17956c6d1c3d25f88aa139fdfc657</th>\n",
       "      <th>176209023</th>\n",
       "      <td>1</td>\n",
       "      <td>0.035576</td>\n",
       "    </tr>\n",
       "    <tr>\n",
       "      <th>568601006</th>\n",
       "      <td>2</td>\n",
       "      <td>0.050831</td>\n",
       "    </tr>\n",
       "    <tr>\n",
       "      <th>568601043</th>\n",
       "      <td>1</td>\n",
       "      <td>0.050831</td>\n",
       "    </tr>\n",
       "    <tr>\n",
       "      <th>607642008</th>\n",
       "      <td>1</td>\n",
       "      <td>0.012695</td>\n",
       "    </tr>\n",
       "    <tr>\n",
       "      <th>625548001</th>\n",
       "      <td>1</td>\n",
       "      <td>0.044051</td>\n",
       "    </tr>\n",
       "    <tr>\n",
       "      <th>627759010</th>\n",
       "      <td>1</td>\n",
       "      <td>0.030492</td>\n",
       "    </tr>\n",
       "    <tr>\n",
       "      <th>656719005</th>\n",
       "      <td>1</td>\n",
       "      <td>0.044051</td>\n",
       "    </tr>\n",
       "    <tr>\n",
       "      <th>694736004</th>\n",
       "      <td>1</td>\n",
       "      <td>0.018288</td>\n",
       "    </tr>\n",
       "    <tr>\n",
       "      <th>697138006</th>\n",
       "      <td>1</td>\n",
       "      <td>0.010153</td>\n",
       "    </tr>\n",
       "    <tr>\n",
       "      <th>745232001</th>\n",
       "      <td>1</td>\n",
       "      <td>0.021169</td>\n",
       "    </tr>\n",
       "    <tr>\n",
       "      <th>785186005</th>\n",
       "      <td>1</td>\n",
       "      <td>0.016932</td>\n",
       "    </tr>\n",
       "    <tr>\n",
       "      <th>785710001</th>\n",
       "      <td>1</td>\n",
       "      <td>0.024407</td>\n",
       "    </tr>\n",
       "    <tr>\n",
       "      <th>795440001</th>\n",
       "      <td>1</td>\n",
       "      <td>0.014390</td>\n",
       "    </tr>\n",
       "    <tr>\n",
       "      <th>797065001</th>\n",
       "      <td>2</td>\n",
       "      <td>0.054220</td>\n",
       "    </tr>\n",
       "    <tr>\n",
       "      <th>812683013</th>\n",
       "      <td>1</td>\n",
       "      <td>0.036593</td>\n",
       "    </tr>\n",
       "  </tbody>\n",
       "</table>\n",
       "</div>"
      ],
      "text/plain": [
       "                                                               qty  avg_price\n",
       "customer_id                                        article_id                \n",
       "00000dbacae5abe5e23885899a1fa44253a17956c6d1c3d... 176209023     1   0.035576\n",
       "                                                   568601006     2   0.050831\n",
       "                                                   568601043     1   0.050831\n",
       "                                                   607642008     1   0.012695\n",
       "                                                   625548001     1   0.044051\n",
       "                                                   627759010     1   0.030492\n",
       "                                                   656719005     1   0.044051\n",
       "                                                   694736004     1   0.018288\n",
       "                                                   697138006     1   0.010153\n",
       "                                                   745232001     1   0.021169\n",
       "                                                   785186005     1   0.016932\n",
       "                                                   785710001     1   0.024407\n",
       "                                                   795440001     1   0.014390\n",
       "                                                   797065001     2   0.054220\n",
       "                                                   812683013     1   0.036593"
      ]
     },
     "execution_count": 5,
     "metadata": {},
     "output_type": "execute_result"
    }
   ],
   "source": [
    "trx_grp.head(15)"
   ]
  },
  {
   "cell_type": "code",
   "execution_count": 6,
   "metadata": {},
   "outputs": [],
   "source": [
    "pop_articles = trx_grp.reset_index().groupby(['article_id'])[['qty']].sum().sort_values('qty', ascending=False)"
   ]
  },
  {
   "cell_type": "code",
   "execution_count": 7,
   "metadata": {},
   "outputs": [],
   "source": [
    "K = 1000\n",
    "top_k_items = pop_articles.reset_index().loc[:K, ['article_id']]"
   ]
  },
  {
   "cell_type": "code",
   "execution_count": 8,
   "metadata": {},
   "outputs": [],
   "source": [
    "pop_customers = trx_grp.reset_index().groupby(['customer_id'])[['qty']].sum().sort_values('qty', ascending=False)"
   ]
  },
  {
   "cell_type": "code",
   "execution_count": 9,
   "metadata": {},
   "outputs": [],
   "source": [
    "K = 300_000\n",
    "top_k_customers = pop_customers.reset_index().loc[:K, ['customer_id']]"
   ]
  },
  {
   "cell_type": "code",
   "execution_count": 10,
   "metadata": {},
   "outputs": [],
   "source": [
    "mask = transactions['article_id'].isin(top_k_items['article_id']) | transactions['customer_id'].isin(top_k_customers['customer_id'])\n",
    "trx_popular = transactions[mask]"
   ]
  },
  {
   "cell_type": "code",
   "execution_count": 11,
   "metadata": {},
   "outputs": [
    {
     "data": {
      "text/plain": [
       "((24285737, 5), (31788324, 5))"
      ]
     },
     "execution_count": 11,
     "metadata": {},
     "output_type": "execute_result"
    }
   ],
   "source": [
    "trx_popular.shape, transactions.shape"
   ]
  },
  {
   "cell_type": "code",
   "execution_count": null,
   "metadata": {},
   "outputs": [],
   "source": [
    "top_k_items.to_csv('./data/top_1000_articles.csv', index=False)\n",
    "top_k_customers.to_csv('./data/top_300_000_customers.csv', index=False)\n",
    "trx_popular.to_csv('./data/transactions_popular.csv', index=False)"
   ]
  },
  {
   "cell_type": "code",
   "execution_count": null,
   "metadata": {},
   "outputs": [],
   "source": [
    "customers = pd.read_csv(FILES['customers'])\n",
    "articles = pd.read_csv(FILES['articles'])"
   ]
  },
  {
   "cell_type": "code",
   "execution_count": null,
   "metadata": {},
   "outputs": [],
   "source": [
    "articles = articles.loc[articles['article_id'].isin(top_k_items['article_id']), :]\n",
    "customers = customers.loc[customers['customer_id'].isin(top_k_customers['customer_id']), :]"
   ]
  },
  {
   "cell_type": "code",
   "execution_count": null,
   "metadata": {},
   "outputs": [],
   "source": [
    "articles.shape, customers.shape"
   ]
  },
  {
   "cell_type": "code",
   "execution_count": null,
   "metadata": {},
   "outputs": [],
   "source": [
    "articles.to_csv('./data/articles.csv', index=False)\n",
    "customers.to_csv('./data/customers.csv', index=False)"
   ]
  }
 ],
 "metadata": {
  "interpreter": {
   "hash": "916dbcbb3f70747c44a77c7bcd40155683ae19c65e1c03b4aa3499c5328201f1"
  },
  "kernelspec": {
   "display_name": "Python 3.8.10 64-bit",
   "language": "python",
   "name": "python3"
  },
  "language_info": {
   "codemirror_mode": {
    "name": "ipython",
    "version": 3
   },
   "file_extension": ".py",
   "mimetype": "text/x-python",
   "name": "python",
   "nbconvert_exporter": "python",
   "pygments_lexer": "ipython3",
   "version": "3.8.10"
  },
  "orig_nbformat": 4
 },
 "nbformat": 4,
 "nbformat_minor": 2
}
