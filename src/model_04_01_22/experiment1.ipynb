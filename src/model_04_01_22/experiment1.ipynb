{
 "cells": [
  {
   "cell_type": "code",
   "execution_count": 1,
   "metadata": {},
   "outputs": [],
   "source": [
    "import pandas as pd\n",
    "\n",
    "class DataParser:\n",
    "  def __init__(self, filepaths):\n",
    "    assert isinstance(filepaths, dict)\n",
    "    assert 'articles' in filepaths\n",
    "    assert 'customers' in filepaths\n",
    "    assert 'transactions' in filepaths\n",
    "    self._filepaths = filepaths\n",
    "    self._raw = {}\n",
    "    self._data = {}\n",
    "    self._encoders = {\n",
    "      'articles': self.encode_articles,\n",
    "      'customers': self.encode_customers,\n",
    "      'transactions': self.encode_transactions,\n",
    "    }\n",
    "  \n",
    "  def load_data(self, index):\n",
    "    assert index in ['articles', 'customers', 'transactions']\n",
    "    self._raw[index] = pd.read_csv(self._filepaths[index])\n",
    "  \n",
    "  def encode_data(self, index):\n",
    "    assert index in ['articles', 'customers', 'transactions']\n",
    "    assert index in self._raw\n",
    "    self._encoders[index]()\n",
    "\n",
    "  def create_association(self, index, id, name):  \n",
    "    association_dict = self._raw[index][[id, name]]\n",
    "    association_dict = association_dict.set_index([id]).to_dict()[name]\n",
    "    return pd.DataFrame.from_dict(association_dict, orient='index', columns=['name'])\n",
    "  \n",
    "  def encode_articles(self):\n",
    "    selectors = [col for col in self._raw['articles'].columns if any(['id' in col, 'code' in col, 'no' in col])]\n",
    "    self._data['articles'] = self._raw['articles'].loc[:, selectors].copy(deep=True)\n",
    "\n",
    "    self._data['articles']['index_code'] = self._data['articles']['index_code'].astype('category')\n",
    "    self._data['articles']['index_code'] = self._data['articles']['index_code'].cat.codes\n",
    "  \n",
    "  def fill_customers(self):\n",
    "    self._raw['customers']['age'].fillna(0.0, inplace=True)\n",
    "    self._raw['customers']['club_member_status'].fillna('NONE', inplace=True)\n",
    "    self._raw['customers']['Active'].fillna(0.0, inplace=True)\n",
    "    self._raw['customers']['FN'].fillna(0.0, inplace=True)\n",
    "    self._raw['customers']['fashion_news_frequency'].fillna('NONE', inplace=True)\n",
    "    self._raw['customers']['fashion_news_frequency'] = self._raw['customers']['fashion_news_frequency'].str.replace('NONE', 'None')\n",
    "  \n",
    "  def encode_customers(self):\n",
    "    self.fill_customers()\n",
    "    self._data['customers'] = self._raw['customers'].copy(deep=True)\n",
    "\n",
    "    self._data['customers']['fashion_news_frequency'] = self._data['customers']['fashion_news_frequency'].astype('category')\n",
    "    self._data['customers']['club_member_status'] = self._data['customers']['club_member_status'].astype('category')\n",
    "    self._data['customers']['Active'] = self._data['customers']['Active'].astype('category')\n",
    "    self._data['customers']['FN'] = self._data['customers']['FN'].astype('category')\n",
    "    self._data['customers']['club_member_status'] = self._data['customers']['club_member_status'].cat.codes\n",
    "    self._data['customers']['fashion_news_frequency'] = self._data['customers']['fashion_news_frequency'].cat.codes\n",
    "  \n",
    "  def encode_transactions(self):\n",
    "    self._data['transactions'] = self._raw['transactions'].copy(deep=True)\n",
    "\n",
    "  def get_data(self, index) -> pd.DataFrame:\n",
    "    assert index in ['articles', 'customers', 'transactions']\n",
    "    if index not in self._raw and index not in self._data:\n",
    "      self.load_data(index)\n",
    "      print(f'{index.upper()} loaded...')\n",
    "    if index not in self._data:\n",
    "      self.encode_data(index)\n",
    "      del self._raw[index]\n",
    "    return self._data[index]"
   ]
  },
  {
   "cell_type": "code",
   "execution_count": 2,
   "metadata": {},
   "outputs": [],
   "source": [
    "import numpy as np"
   ]
  },
  {
   "cell_type": "code",
   "execution_count": 3,
   "metadata": {},
   "outputs": [],
   "source": [
    "filepaths = {\n",
    "    'articles': '../../data/articles.csv',\n",
    "    'customers': '../../data/customers.csv',\n",
    "    'transactions': '../../data/transactions_train.csv'\n",
    "}"
   ]
  },
  {
   "cell_type": "code",
   "execution_count": 4,
   "metadata": {},
   "outputs": [],
   "source": [
    "parser = DataParser(filepaths)"
   ]
  },
  {
   "cell_type": "code",
   "execution_count": 5,
   "metadata": {},
   "outputs": [
    {
     "name": "stdout",
     "output_type": "stream",
     "text": [
      "ARTICLES loaded...\n"
     ]
    }
   ],
   "source": [
    "articles = parser.get_data('articles')"
   ]
  },
  {
   "cell_type": "code",
   "execution_count": 6,
   "metadata": {},
   "outputs": [
    {
     "name": "stdout",
     "output_type": "stream",
     "text": [
      "CUSTOMERS loaded...\n"
     ]
    }
   ],
   "source": [
    "customers = parser.get_data('customers')"
   ]
  },
  {
   "cell_type": "code",
   "execution_count": 7,
   "metadata": {},
   "outputs": [
    {
     "name": "stdout",
     "output_type": "stream",
     "text": [
      "TRANSACTIONS loaded...\n"
     ]
    }
   ],
   "source": [
    "transactions = parser.get_data('transactions')"
   ]
  },
  {
   "cell_type": "code",
   "execution_count": 8,
   "metadata": {},
   "outputs": [
    {
     "data": {
      "text/plain": [
       "array([95302, 86844, 57456, 49805, 17244, 88368, 55466])"
      ]
     },
     "execution_count": 8,
     "metadata": {},
     "output_type": "execute_result"
    }
   ],
   "source": [
    "random_article_idx = np.random.randint(0, articles.shape[0], 7)\n",
    "random_article_idx"
   ]
  },
  {
   "cell_type": "code",
   "execution_count": 9,
   "metadata": {},
   "outputs": [
    {
     "data": {
      "text/html": [
       "<div>\n",
       "<style scoped>\n",
       "    .dataframe tbody tr th:only-of-type {\n",
       "        vertical-align: middle;\n",
       "    }\n",
       "\n",
       "    .dataframe tbody tr th {\n",
       "        vertical-align: top;\n",
       "    }\n",
       "\n",
       "    .dataframe thead th {\n",
       "        text-align: right;\n",
       "    }\n",
       "</style>\n",
       "<table border=\"1\" class=\"dataframe\">\n",
       "  <thead>\n",
       "    <tr style=\"text-align: right;\">\n",
       "      <th></th>\n",
       "      <th>article_id</th>\n",
       "      <th>product_code</th>\n",
       "      <th>product_type_no</th>\n",
       "      <th>graphical_appearance_no</th>\n",
       "      <th>colour_group_code</th>\n",
       "      <th>perceived_colour_value_id</th>\n",
       "      <th>perceived_colour_master_id</th>\n",
       "      <th>department_no</th>\n",
       "      <th>index_code</th>\n",
       "      <th>index_group_no</th>\n",
       "      <th>section_no</th>\n",
       "      <th>garment_group_no</th>\n",
       "    </tr>\n",
       "  </thead>\n",
       "  <tbody>\n",
       "    <tr>\n",
       "      <th>0</th>\n",
       "      <td>865977019</td>\n",
       "      <td>865977</td>\n",
       "      <td>273</td>\n",
       "      <td>1010014</td>\n",
       "      <td>9</td>\n",
       "      <td>4</td>\n",
       "      <td>5</td>\n",
       "      <td>8716</td>\n",
       "      <td>7</td>\n",
       "      <td>4</td>\n",
       "      <td>77</td>\n",
       "      <td>1005</td>\n",
       "    </tr>\n",
       "    <tr>\n",
       "      <th>1</th>\n",
       "      <td>825173002</td>\n",
       "      <td>825173</td>\n",
       "      <td>254</td>\n",
       "      <td>1010016</td>\n",
       "      <td>22</td>\n",
       "      <td>2</td>\n",
       "      <td>8</td>\n",
       "      <td>1522</td>\n",
       "      <td>0</td>\n",
       "      <td>1</td>\n",
       "      <td>15</td>\n",
       "      <td>1010</td>\n",
       "    </tr>\n",
       "    <tr>\n",
       "      <th>2</th>\n",
       "      <td>716868002</td>\n",
       "      <td>716868</td>\n",
       "      <td>94</td>\n",
       "      <td>1010016</td>\n",
       "      <td>10</td>\n",
       "      <td>3</td>\n",
       "      <td>9</td>\n",
       "      <td>3828</td>\n",
       "      <td>2</td>\n",
       "      <td>1</td>\n",
       "      <td>64</td>\n",
       "      <td>1020</td>\n",
       "    </tr>\n",
       "    <tr>\n",
       "      <th>3</th>\n",
       "      <td>695359001</td>\n",
       "      <td>695359</td>\n",
       "      <td>245</td>\n",
       "      <td>1010016</td>\n",
       "      <td>17</td>\n",
       "      <td>2</td>\n",
       "      <td>13</td>\n",
       "      <td>1616</td>\n",
       "      <td>0</td>\n",
       "      <td>1</td>\n",
       "      <td>11</td>\n",
       "      <td>1003</td>\n",
       "    </tr>\n",
       "    <tr>\n",
       "      <th>4</th>\n",
       "      <td>573323004</td>\n",
       "      <td>573323</td>\n",
       "      <td>265</td>\n",
       "      <td>1010001</td>\n",
       "      <td>9</td>\n",
       "      <td>4</td>\n",
       "      <td>5</td>\n",
       "      <td>1344</td>\n",
       "      <td>3</td>\n",
       "      <td>2</td>\n",
       "      <td>53</td>\n",
       "      <td>1013</td>\n",
       "    </tr>\n",
       "    <tr>\n",
       "      <th>5</th>\n",
       "      <td>832505004</td>\n",
       "      <td>832505</td>\n",
       "      <td>306</td>\n",
       "      <td>1010016</td>\n",
       "      <td>17</td>\n",
       "      <td>4</td>\n",
       "      <td>13</td>\n",
       "      <td>3710</td>\n",
       "      <td>1</td>\n",
       "      <td>1</td>\n",
       "      <td>61</td>\n",
       "      <td>1017</td>\n",
       "    </tr>\n",
       "    <tr>\n",
       "      <th>6</th>\n",
       "      <td>710727003</td>\n",
       "      <td>710727</td>\n",
       "      <td>274</td>\n",
       "      <td>1010016</td>\n",
       "      <td>73</td>\n",
       "      <td>4</td>\n",
       "      <td>2</td>\n",
       "      <td>6565</td>\n",
       "      <td>5</td>\n",
       "      <td>4</td>\n",
       "      <td>41</td>\n",
       "      <td>1006</td>\n",
       "    </tr>\n",
       "  </tbody>\n",
       "</table>\n",
       "</div>"
      ],
      "text/plain": [
       "   article_id  product_code  product_type_no  graphical_appearance_no  \\\n",
       "0   865977019        865977              273                  1010014   \n",
       "1   825173002        825173              254                  1010016   \n",
       "2   716868002        716868               94                  1010016   \n",
       "3   695359001        695359              245                  1010016   \n",
       "4   573323004        573323              265                  1010001   \n",
       "5   832505004        832505              306                  1010016   \n",
       "6   710727003        710727              274                  1010016   \n",
       "\n",
       "   colour_group_code  perceived_colour_value_id  perceived_colour_master_id  \\\n",
       "0                  9                          4                           5   \n",
       "1                 22                          2                           8   \n",
       "2                 10                          3                           9   \n",
       "3                 17                          2                          13   \n",
       "4                  9                          4                           5   \n",
       "5                 17                          4                          13   \n",
       "6                 73                          4                           2   \n",
       "\n",
       "   department_no  index_code  index_group_no  section_no  garment_group_no  \n",
       "0           8716           7               4          77              1005  \n",
       "1           1522           0               1          15              1010  \n",
       "2           3828           2               1          64              1020  \n",
       "3           1616           0               1          11              1003  \n",
       "4           1344           3               2          53              1013  \n",
       "5           3710           1               1          61              1017  \n",
       "6           6565           5               4          41              1006  "
      ]
     },
     "execution_count": 9,
     "metadata": {},
     "output_type": "execute_result"
    }
   ],
   "source": [
    "selected_articles = articles.loc[random_article_idx, :]\n",
    "selected_articles = selected_articles.reset_index().drop(columns=['index'])\n",
    "selected_articles"
   ]
  },
  {
   "cell_type": "code",
   "execution_count": 10,
   "metadata": {},
   "outputs": [],
   "source": [
    "article_mask = transactions['article_id'].isin(selected_articles['article_id'])\n",
    "selected_article_transactions = transactions[article_mask]"
   ]
  },
  {
   "cell_type": "code",
   "execution_count": 11,
   "metadata": {},
   "outputs": [],
   "source": [
    "users_mask = transactions['customer_id'].isin(selected_article_transactions['customer_id'].unique()) & ~transactions['article_id'].isin(selected_articles['article_id'])\n",
    "selected_user_transactions = transactions[users_mask]"
   ]
  },
  {
   "cell_type": "code",
   "execution_count": 12,
   "metadata": {},
   "outputs": [],
   "source": [
    "selected_transactions = selected_article_transactions.append(selected_user_transactions, ignore_index=True)"
   ]
  },
  {
   "cell_type": "code",
   "execution_count": 13,
   "metadata": {},
   "outputs": [],
   "source": [
    "articles_mask = articles['article_id'].isin(selected_transactions['article_id'].unique()) & ~articles['article_id'].isin(selected_articles['article_id'].unique())\n",
    "selected_articles = selected_articles.append(articles[articles_mask])"
   ]
  },
  {
   "cell_type": "code",
   "execution_count": 14,
   "metadata": {},
   "outputs": [],
   "source": [
    "customers_mask = customers['customer_id'].isin(selected_article_transactions['customer_id'].unique())\n",
    "selected_customers = customers[customers_mask]"
   ]
  },
  {
   "cell_type": "code",
   "execution_count": 15,
   "metadata": {},
   "outputs": [
    {
     "name": "stdout",
     "output_type": "stream",
     "text": [
      "(44435,) (1849,)\n",
      "(44435,) (1849,)\n"
     ]
    }
   ],
   "source": [
    "print(selected_transactions['article_id'].unique().shape, selected_transactions['customer_id'].unique().shape)\n",
    "print(selected_articles['article_id'].unique().shape, selected_customers['customer_id'].unique().shape)"
   ]
  },
  {
   "cell_type": "code",
   "execution_count": 16,
   "metadata": {},
   "outputs": [],
   "source": [
    "import turicreate as tc"
   ]
  },
  {
   "cell_type": "code",
   "execution_count": 17,
   "metadata": {},
   "outputs": [],
   "source": [
    "del parser\n",
    "del transactions\n",
    "del articles\n",
    "del customers"
   ]
  },
  {
   "cell_type": "code",
   "execution_count": 18,
   "metadata": {},
   "outputs": [
    {
     "data": {
      "text/plain": [
       "((194179, 5), (192692, 5), (1487, 5))"
      ]
     },
     "execution_count": 18,
     "metadata": {},
     "output_type": "execute_result"
    }
   ],
   "source": [
    "selected_transactions = selected_transactions.sort_values(by='t_dat')\n",
    "train_mask, test_mask = ~selected_transactions['t_dat'].isin(selected_transactions['t_dat'].unique()[-7:]), selected_transactions['t_dat'].isin(selected_transactions['t_dat'].unique()[-7:])\n",
    "train_data, test_data = selected_transactions[train_mask], selected_transactions[test_mask]\n",
    "\n",
    "selected_transactions.shape, train_data.shape, test_data.shape\n"
   ]
  },
  {
   "cell_type": "code",
   "execution_count": 19,
   "metadata": {},
   "outputs": [],
   "source": [
    "X = train_data.groupby(['customer_id', 'article_id'])[['t_dat']].count().reset_index().rename(columns={'t_dat': 'purchase_count'})\n",
    "X = X.merge(X.groupby(['customer_id'])['purchase_count'].sum().reset_index().rename(columns={'purchase_count': 'total'}), how='outer', on='customer_id')\n",
    "X['weights'] = (X['purchase_count'] / X['total']) * 100"
   ]
  },
  {
   "cell_type": "code",
   "execution_count": 20,
   "metadata": {},
   "outputs": [],
   "source": [
    "X_test = test_data.groupby(['customer_id', 'article_id'])[['t_dat']].count().reset_index().rename(columns={'t_dat': 'purchase_count'})\n",
    "X_test = X_test.merge(X_test.groupby(['customer_id'])['purchase_count'].sum().reset_index().rename(columns={'purchase_count': 'total'}), how='outer', on='customer_id')\n",
    "X_test['weights'] = (X_test['purchase_count'] / X_test['total']) * 100"
   ]
  },
  {
   "cell_type": "code",
   "execution_count": 21,
   "metadata": {},
   "outputs": [],
   "source": [
    "train = tc.SFrame(data=X[['customer_id', 'article_id', 'weights']].to_dict(orient='list'))\n",
    "articles = tc.SFrame(data=selected_articles.to_dict(orient='list'))\n",
    "customers = tc.SFrame(data=selected_customers.to_dict(orient='list'))"
   ]
  },
  {
   "cell_type": "code",
   "execution_count": 22,
   "metadata": {},
   "outputs": [],
   "source": [
    "test = tc.SFrame(data=X_test[['customer_id', 'article_id', 'weights']].to_dict(orient='list'))"
   ]
  },
  {
   "cell_type": "code",
   "execution_count": 23,
   "metadata": {},
   "outputs": [
    {
     "data": {
      "text/plain": [
       "((162156, 3), (44435, 12), (1849, 7), (1328, 3))"
      ]
     },
     "execution_count": 23,
     "metadata": {},
     "output_type": "execute_result"
    }
   ],
   "source": [
    "train.shape, articles.shape, customers.shape, test.shape"
   ]
  },
  {
   "cell_type": "markdown",
   "metadata": {},
   "source": [
    "## Model 1"
   ]
  },
  {
   "cell_type": "code",
   "execution_count": 24,
   "metadata": {},
   "outputs": [
    {
     "data": {
      "text/html": [
       "<pre>Preparing data set.</pre>"
      ],
      "text/plain": [
       "Preparing data set."
      ]
     },
     "metadata": {},
     "output_type": "display_data"
    },
    {
     "data": {
      "text/html": [
       "<pre>    Data has 435446 observations with 5213 users and 57827 items.</pre>"
      ],
      "text/plain": [
       "    Data has 435446 observations with 5213 users and 57827 items."
      ]
     },
     "metadata": {},
     "output_type": "display_data"
    },
    {
     "data": {
      "text/html": [
       "<pre>    Data prepared in: 0.22935s</pre>"
      ],
      "text/plain": [
       "    Data prepared in: 0.22935s"
      ]
     },
     "metadata": {},
     "output_type": "display_data"
    },
    {
     "data": {
      "text/html": [
       "<pre>Training model from provided data.</pre>"
      ],
      "text/plain": [
       "Training model from provided data."
      ]
     },
     "metadata": {},
     "output_type": "display_data"
    },
    {
     "data": {
      "text/html": [
       "<pre>Gathering per-item and per-user statistics.</pre>"
      ],
      "text/plain": [
       "Gathering per-item and per-user statistics."
      ]
     },
     "metadata": {},
     "output_type": "display_data"
    },
    {
     "data": {
      "text/html": [
       "<pre>+--------------------------------+------------+</pre>"
      ],
      "text/plain": [
       "+--------------------------------+------------+"
      ]
     },
     "metadata": {},
     "output_type": "display_data"
    },
    {
     "data": {
      "text/html": [
       "<pre>| Elapsed Time (Item Statistics) | % Complete |</pre>"
      ],
      "text/plain": [
       "| Elapsed Time (Item Statistics) | % Complete |"
      ]
     },
     "metadata": {},
     "output_type": "display_data"
    },
    {
     "data": {
      "text/html": [
       "<pre>+--------------------------------+------------+</pre>"
      ],
      "text/plain": [
       "+--------------------------------+------------+"
      ]
     },
     "metadata": {},
     "output_type": "display_data"
    },
    {
     "data": {
      "text/html": [
       "<pre>| 1.328ms                        | 19         |</pre>"
      ],
      "text/plain": [
       "| 1.328ms                        | 19         |"
      ]
     },
     "metadata": {},
     "output_type": "display_data"
    },
    {
     "data": {
      "text/html": [
       "<pre>| 2.903ms                        | 100        |</pre>"
      ],
      "text/plain": [
       "| 2.903ms                        | 100        |"
      ]
     },
     "metadata": {},
     "output_type": "display_data"
    },
    {
     "data": {
      "text/html": [
       "<pre>+--------------------------------+------------+</pre>"
      ],
      "text/plain": [
       "+--------------------------------+------------+"
      ]
     },
     "metadata": {},
     "output_type": "display_data"
    },
    {
     "data": {
      "text/html": [
       "<pre>Setting up lookup tables.</pre>"
      ],
      "text/plain": [
       "Setting up lookup tables."
      ]
     },
     "metadata": {},
     "output_type": "display_data"
    },
    {
     "data": {
      "text/html": [
       "<pre>Processing data in 3 passes using dense lookup tables.</pre>"
      ],
      "text/plain": [
       "Processing data in 3 passes using dense lookup tables."
      ]
     },
     "metadata": {},
     "output_type": "display_data"
    },
    {
     "data": {
      "text/html": [
       "<pre>+-------------------------------------+------------------+-----------------+</pre>"
      ],
      "text/plain": [
       "+-------------------------------------+------------------+-----------------+"
      ]
     },
     "metadata": {},
     "output_type": "display_data"
    },
    {
     "data": {
      "text/html": [
       "<pre>| Elapsed Time (Constructing Lookups) | Total % Complete | Items Processed |</pre>"
      ],
      "text/plain": [
       "| Elapsed Time (Constructing Lookups) | Total % Complete | Items Processed |"
      ]
     },
     "metadata": {},
     "output_type": "display_data"
    },
    {
     "data": {
      "text/html": [
       "<pre>+-------------------------------------+------------------+-----------------+</pre>"
      ],
      "text/plain": [
       "+-------------------------------------+------------------+-----------------+"
      ]
     },
     "metadata": {},
     "output_type": "display_data"
    },
    {
     "data": {
      "text/html": [
       "<pre>| 1.70s                               | 0                | 35              |</pre>"
      ],
      "text/plain": [
       "| 1.70s                               | 0                | 35              |"
      ]
     },
     "metadata": {},
     "output_type": "display_data"
    },
    {
     "data": {
      "text/html": [
       "<pre>| 5.17s                               | 100              | 57827           |</pre>"
      ],
      "text/plain": [
       "| 5.17s                               | 100              | 57827           |"
      ]
     },
     "metadata": {},
     "output_type": "display_data"
    },
    {
     "data": {
      "text/html": [
       "<pre>+-------------------------------------+------------------+-----------------+</pre>"
      ],
      "text/plain": [
       "+-------------------------------------+------------------+-----------------+"
      ]
     },
     "metadata": {},
     "output_type": "display_data"
    },
    {
     "data": {
      "text/html": [
       "<pre>Finalizing lookup tables.</pre>"
      ],
      "text/plain": [
       "Finalizing lookup tables."
      ]
     },
     "metadata": {},
     "output_type": "display_data"
    },
    {
     "data": {
      "text/html": [
       "<pre>Generating candidate set for working with new users.</pre>"
      ],
      "text/plain": [
       "Generating candidate set for working with new users."
      ]
     },
     "metadata": {},
     "output_type": "display_data"
    },
    {
     "data": {
      "text/html": [
       "<pre>Finished training in 6.201s</pre>"
      ],
      "text/plain": [
       "Finished training in 6.201s"
      ]
     },
     "metadata": {},
     "output_type": "display_data"
    }
   ],
   "source": [
    "model = tc.recommender.item_similarity_recommender.create(train, user_id='customer_id', item_id='article_id', target='weights', user_data=customers, item_data=articles, only_top_k=12, similarity_type='cosine', target_memory_usage=4589934592)"
   ]
  },
  {
   "cell_type": "code",
   "execution_count": 25,
   "metadata": {},
   "outputs": [
    {
     "data": {
      "text/html": [
       "<pre>recommendations finished on 1000/5213 queries. users per second: 7732.7</pre>"
      ],
      "text/plain": [
       "recommendations finished on 1000/5213 queries. users per second: 7732.7"
      ]
     },
     "metadata": {},
     "output_type": "display_data"
    },
    {
     "data": {
      "text/html": [
       "<pre>recommendations finished on 2000/5213 queries. users per second: 7965.68</pre>"
      ],
      "text/plain": [
       "recommendations finished on 2000/5213 queries. users per second: 7965.68"
      ]
     },
     "metadata": {},
     "output_type": "display_data"
    },
    {
     "data": {
      "text/html": [
       "<pre>recommendations finished on 3000/5213 queries. users per second: 7896.46</pre>"
      ],
      "text/plain": [
       "recommendations finished on 3000/5213 queries. users per second: 7896.46"
      ]
     },
     "metadata": {},
     "output_type": "display_data"
    },
    {
     "data": {
      "text/html": [
       "<pre>recommendations finished on 4000/5213 queries. users per second: 7890.99</pre>"
      ],
      "text/plain": [
       "recommendations finished on 4000/5213 queries. users per second: 7890.99"
      ]
     },
     "metadata": {},
     "output_type": "display_data"
    },
    {
     "data": {
      "text/html": [
       "<pre>recommendations finished on 5000/5213 queries. users per second: 7989.31</pre>"
      ],
      "text/plain": [
       "recommendations finished on 5000/5213 queries. users per second: 7989.31"
      ]
     },
     "metadata": {},
     "output_type": "display_data"
    }
   ],
   "source": [
    "predictions = model.recommend(customers['customer_id'], 12)"
   ]
  },
  {
   "cell_type": "code",
   "execution_count": 26,
   "metadata": {},
   "outputs": [
    {
     "name": "stdout",
     "output_type": "stream",
     "text": [
      "+-------------------------------+------------+----------------------+------+\n",
      "|          customer_id          | article_id |        score         | rank |\n",
      "+-------------------------------+------------+----------------------+------+\n",
      "| 001a07f8ad065d7ed4d560bd87... | 653538001  |  0.5234657067518967  |  1   |\n",
      "| 001a07f8ad065d7ed4d560bd87... | 578997005  | 0.47645922349049497  |  2   |\n",
      "| 001a07f8ad065d7ed4d560bd87... | 879166005  | 0.32102065819960374  |  3   |\n",
      "| 001a07f8ad065d7ed4d560bd87... | 872013002  | 0.31920281740335316  |  4   |\n",
      "| 001a07f8ad065d7ed4d560bd87... | 695325020  | 0.29276072061978853  |  5   |\n",
      "| 001a07f8ad065d7ed4d560bd87... | 866613001  |  0.2893846401801476  |  6   |\n",
      "| 001a07f8ad065d7ed4d560bd87... | 847237002  |  0.2884314243610089  |  7   |\n",
      "| 001a07f8ad065d7ed4d560bd87... | 849648001  |  0.2865508978183453  |  8   |\n",
      "| 001a07f8ad065d7ed4d560bd87... | 794191003  |  0.2821351427298326  |  9   |\n",
      "| 001a07f8ad065d7ed4d560bd87... | 782742001  | 0.28048714307638317  |  10  |\n",
      "| 001a07f8ad065d7ed4d560bd87... | 824497001  | 0.27410879043432385  |  11  |\n",
      "| 001a07f8ad065d7ed4d560bd87... | 837249001  |  0.2736654235766484  |  12  |\n",
      "| 00228762ecff5b8d1ea6a2e52b... | 758118001  |  0.0807962715625763  |  1   |\n",
      "| 00228762ecff5b8d1ea6a2e52b... | 758060001  | 0.05090347857310854  |  2   |\n",
      "| 00228762ecff5b8d1ea6a2e52b... | 758064001  | 0.042822381545757425 |  3   |\n",
      "| 00228762ecff5b8d1ea6a2e52b... | 928845001  | 0.030364956321387457 |  4   |\n",
      "| 00228762ecff5b8d1ea6a2e52b... | 715310002  | 0.03028567597783845  |  5   |\n",
      "| 00228762ecff5b8d1ea6a2e52b... | 803609002  | 0.029781779338573587 |  6   |\n",
      "| 00228762ecff5b8d1ea6a2e52b... | 739569001  | 0.029307917274277787 |  7   |\n",
      "| 00228762ecff5b8d1ea6a2e52b... | 663275003  | 0.028640355529456304 |  8   |\n",
      "| 00228762ecff5b8d1ea6a2e52b... | 579614004  | 0.028640355529456304 |  9   |\n",
      "| 00228762ecff5b8d1ea6a2e52b... | 863967006  | 0.028640355529456304 |  10  |\n",
      "| 00228762ecff5b8d1ea6a2e52b... | 743790005  | 0.028640355529456304 |  11  |\n",
      "| 00228762ecff5b8d1ea6a2e52b... | 645426003  | 0.028640355529456304 |  12  |\n",
      "+-------------------------------+------------+----------------------+------+\n",
      "[62556 rows x 4 columns]\n",
      "\n"
     ]
    }
   ],
   "source": [
    "predictions.print_rows(24)"
   ]
  },
  {
   "cell_type": "code",
   "execution_count": 27,
   "metadata": {},
   "outputs": [
    {
     "data": {
      "text/html": [
       "<div>\n",
       "<style scoped>\n",
       "    .dataframe tbody tr th:only-of-type {\n",
       "        vertical-align: middle;\n",
       "    }\n",
       "\n",
       "    .dataframe tbody tr th {\n",
       "        vertical-align: top;\n",
       "    }\n",
       "\n",
       "    .dataframe thead th {\n",
       "        text-align: right;\n",
       "    }\n",
       "</style>\n",
       "<table border=\"1\" class=\"dataframe\">\n",
       "  <thead>\n",
       "    <tr style=\"text-align: right;\">\n",
       "      <th></th>\n",
       "      <th>customer_id</th>\n",
       "      <th>article_id</th>\n",
       "    </tr>\n",
       "  </thead>\n",
       "  <tbody>\n",
       "    <tr>\n",
       "      <th>0</th>\n",
       "      <td>001a07f8ad065d7ed4d560bd8703e17ce4329dc186cfac...</td>\n",
       "      <td>[653538001, 578997005, 879166005, 872013002, 6...</td>\n",
       "    </tr>\n",
       "    <tr>\n",
       "      <th>1</th>\n",
       "      <td>00228762ecff5b8d1ea6a2e52b96dafa198febddbc3bf3...</td>\n",
       "      <td>[758118001, 758060001, 758064001, 928845001, 7...</td>\n",
       "    </tr>\n",
       "    <tr>\n",
       "      <th>2</th>\n",
       "      <td>0026906d6c593cd34993ee283861e050272cb193026eb8...</td>\n",
       "      <td>[729674002, 706487009, 577425021, 783386002, 7...</td>\n",
       "    </tr>\n",
       "    <tr>\n",
       "      <th>3</th>\n",
       "      <td>003654da7d243503534e25d5a320125b51ad57c5b49aef...</td>\n",
       "      <td>[716262002, 692783002, 624007001, 319906002, 7...</td>\n",
       "    </tr>\n",
       "    <tr>\n",
       "      <th>4</th>\n",
       "      <td>0055238c01fd709813972b3366e956f35b27197c7cb35f...</td>\n",
       "      <td>[918944001, 903311001, 876147001, 881203003, 6...</td>\n",
       "    </tr>\n",
       "    <tr>\n",
       "      <th>...</th>\n",
       "      <td>...</td>\n",
       "      <td>...</td>\n",
       "    </tr>\n",
       "    <tr>\n",
       "      <th>5208</th>\n",
       "      <td>ff4c09948c61a6362ad0d1b1d0f264f0a29b313ad11ded...</td>\n",
       "      <td>[584633002, 853752001, 697315001, 685504001, 6...</td>\n",
       "    </tr>\n",
       "    <tr>\n",
       "      <th>5209</th>\n",
       "      <td>ff50bf86e1509f06af685ba965eca09f77c3d67d0ae9d0...</td>\n",
       "      <td>[708107003, 762331003, 755153002, 721059003, 7...</td>\n",
       "    </tr>\n",
       "    <tr>\n",
       "      <th>5210</th>\n",
       "      <td>ff69970a2d44c40f4f37020576bf4e87b250e429220529...</td>\n",
       "      <td>[510075010, 510075007, 514865019, 549896006, 6...</td>\n",
       "    </tr>\n",
       "    <tr>\n",
       "      <th>5211</th>\n",
       "      <td>ffcf4762f67665a97b16cfa85a0997dcdaf3dff28ac1c2...</td>\n",
       "      <td>[849711003, 871852002, 862937008, 568601031, 7...</td>\n",
       "    </tr>\n",
       "    <tr>\n",
       "      <th>5212</th>\n",
       "      <td>ffe511b73352fb435cd2859b738ccd0d6f6fe10e93a29d...</td>\n",
       "      <td>[773766004, 733696005, 515136003, 743630007, 5...</td>\n",
       "    </tr>\n",
       "  </tbody>\n",
       "</table>\n",
       "<p>5213 rows × 2 columns</p>\n",
       "</div>"
      ],
      "text/plain": [
       "                                            customer_id  \\\n",
       "0     001a07f8ad065d7ed4d560bd8703e17ce4329dc186cfac...   \n",
       "1     00228762ecff5b8d1ea6a2e52b96dafa198febddbc3bf3...   \n",
       "2     0026906d6c593cd34993ee283861e050272cb193026eb8...   \n",
       "3     003654da7d243503534e25d5a320125b51ad57c5b49aef...   \n",
       "4     0055238c01fd709813972b3366e956f35b27197c7cb35f...   \n",
       "...                                                 ...   \n",
       "5208  ff4c09948c61a6362ad0d1b1d0f264f0a29b313ad11ded...   \n",
       "5209  ff50bf86e1509f06af685ba965eca09f77c3d67d0ae9d0...   \n",
       "5210  ff69970a2d44c40f4f37020576bf4e87b250e429220529...   \n",
       "5211  ffcf4762f67665a97b16cfa85a0997dcdaf3dff28ac1c2...   \n",
       "5212  ffe511b73352fb435cd2859b738ccd0d6f6fe10e93a29d...   \n",
       "\n",
       "                                             article_id  \n",
       "0     [653538001, 578997005, 879166005, 872013002, 6...  \n",
       "1     [758118001, 758060001, 758064001, 928845001, 7...  \n",
       "2     [729674002, 706487009, 577425021, 783386002, 7...  \n",
       "3     [716262002, 692783002, 624007001, 319906002, 7...  \n",
       "4     [918944001, 903311001, 876147001, 881203003, 6...  \n",
       "...                                                 ...  \n",
       "5208  [584633002, 853752001, 697315001, 685504001, 6...  \n",
       "5209  [708107003, 762331003, 755153002, 721059003, 7...  \n",
       "5210  [510075010, 510075007, 514865019, 549896006, 6...  \n",
       "5211  [849711003, 871852002, 862937008, 568601031, 7...  \n",
       "5212  [773766004, 733696005, 515136003, 743630007, 5...  \n",
       "\n",
       "[5213 rows x 2 columns]"
      ]
     },
     "execution_count": 27,
     "metadata": {},
     "output_type": "execute_result"
    }
   ],
   "source": [
    "predictions = predictions.to_dataframe().groupby('customer_id')[['article_id']].agg(lambda x: list(x)).reset_index()\n",
    "predictions"
   ]
  },
  {
   "cell_type": "code",
   "execution_count": 28,
   "metadata": {},
   "outputs": [
    {
     "data": {
      "text/html": [
       "<div>\n",
       "<style scoped>\n",
       "    .dataframe tbody tr th:only-of-type {\n",
       "        vertical-align: middle;\n",
       "    }\n",
       "\n",
       "    .dataframe tbody tr th {\n",
       "        vertical-align: top;\n",
       "    }\n",
       "\n",
       "    .dataframe thead th {\n",
       "        text-align: right;\n",
       "    }\n",
       "</style>\n",
       "<table border=\"1\" class=\"dataframe\">\n",
       "  <thead>\n",
       "    <tr style=\"text-align: right;\">\n",
       "      <th></th>\n",
       "      <th>customer_id</th>\n",
       "      <th>article_id</th>\n",
       "    </tr>\n",
       "  </thead>\n",
       "  <tbody>\n",
       "    <tr>\n",
       "      <th>0</th>\n",
       "      <td>0026906d6c593cd34993ee283861e050272cb193026eb8...</td>\n",
       "      <td>[918522001]</td>\n",
       "    </tr>\n",
       "    <tr>\n",
       "      <th>1</th>\n",
       "      <td>00d6f16c1f7b4325c65ebfeb20db8cf66975945f4c078b...</td>\n",
       "      <td>[909529001, 909529002]</td>\n",
       "    </tr>\n",
       "    <tr>\n",
       "      <th>2</th>\n",
       "      <td>00fe8fb9b5a49ed8c38699c1860847c266f288da271b1c...</td>\n",
       "      <td>[877769001, 922037003, 926433001, 936428003]</td>\n",
       "    </tr>\n",
       "    <tr>\n",
       "      <th>3</th>\n",
       "      <td>011fc4c3387f8c6eba0e7062aa47750b65d4dc2d5d6148...</td>\n",
       "      <td>[778064028, 778064038, 852174001, 868823008, 8...</td>\n",
       "    </tr>\n",
       "    <tr>\n",
       "      <th>4</th>\n",
       "      <td>01a4717d38b651e46dda7f1ab8d1494af2682a847fa9a5...</td>\n",
       "      <td>[614854005, 835704008, 841185005, 888570001]</td>\n",
       "    </tr>\n",
       "    <tr>\n",
       "      <th>...</th>\n",
       "      <td>...</td>\n",
       "      <td>...</td>\n",
       "    </tr>\n",
       "    <tr>\n",
       "      <th>800</th>\n",
       "      <td>fd3f2f3aa5652dcb2b7b4510f6f6f01038015c55650cf2...</td>\n",
       "      <td>[674606048, 674606068, 858856001, 908081004, 9...</td>\n",
       "    </tr>\n",
       "    <tr>\n",
       "      <th>801</th>\n",
       "      <td>fdfd48d0122ffb4833863ff1d500854f0cbf37da8ff93b...</td>\n",
       "      <td>[832307003]</td>\n",
       "    </tr>\n",
       "    <tr>\n",
       "      <th>802</th>\n",
       "      <td>ff15f008bdf2c7c9ce8c47cf05ffc9ef5ae5aeebebc64f...</td>\n",
       "      <td>[742561002, 742561003, 797988001]</td>\n",
       "    </tr>\n",
       "    <tr>\n",
       "      <th>803</th>\n",
       "      <td>ff50bf86e1509f06af685ba965eca09f77c3d67d0ae9d0...</td>\n",
       "      <td>[925978001]</td>\n",
       "    </tr>\n",
       "    <tr>\n",
       "      <th>804</th>\n",
       "      <td>ffe511b73352fb435cd2859b738ccd0d6f6fe10e93a29d...</td>\n",
       "      <td>[749974009, 759465001]</td>\n",
       "    </tr>\n",
       "  </tbody>\n",
       "</table>\n",
       "<p>805 rows × 2 columns</p>\n",
       "</div>"
      ],
      "text/plain": [
       "                                           customer_id  \\\n",
       "0    0026906d6c593cd34993ee283861e050272cb193026eb8...   \n",
       "1    00d6f16c1f7b4325c65ebfeb20db8cf66975945f4c078b...   \n",
       "2    00fe8fb9b5a49ed8c38699c1860847c266f288da271b1c...   \n",
       "3    011fc4c3387f8c6eba0e7062aa47750b65d4dc2d5d6148...   \n",
       "4    01a4717d38b651e46dda7f1ab8d1494af2682a847fa9a5...   \n",
       "..                                                 ...   \n",
       "800  fd3f2f3aa5652dcb2b7b4510f6f6f01038015c55650cf2...   \n",
       "801  fdfd48d0122ffb4833863ff1d500854f0cbf37da8ff93b...   \n",
       "802  ff15f008bdf2c7c9ce8c47cf05ffc9ef5ae5aeebebc64f...   \n",
       "803  ff50bf86e1509f06af685ba965eca09f77c3d67d0ae9d0...   \n",
       "804  ffe511b73352fb435cd2859b738ccd0d6f6fe10e93a29d...   \n",
       "\n",
       "                                            article_id  \n",
       "0                                          [918522001]  \n",
       "1                               [909529001, 909529002]  \n",
       "2         [877769001, 922037003, 926433001, 936428003]  \n",
       "3    [778064028, 778064038, 852174001, 868823008, 8...  \n",
       "4         [614854005, 835704008, 841185005, 888570001]  \n",
       "..                                                 ...  \n",
       "800  [674606048, 674606068, 858856001, 908081004, 9...  \n",
       "801                                        [832307003]  \n",
       "802                  [742561002, 742561003, 797988001]  \n",
       "803                                        [925978001]  \n",
       "804                             [749974009, 759465001]  \n",
       "\n",
       "[805 rows x 2 columns]"
      ]
     },
     "execution_count": 28,
     "metadata": {},
     "output_type": "execute_result"
    }
   ],
   "source": [
    "test = test.to_dataframe().groupby('customer_id')[['article_id']].agg(lambda x: list(x)).reset_index()\n",
    "test"
   ]
  },
  {
   "cell_type": "code",
   "execution_count": 29,
   "metadata": {},
   "outputs": [
    {
     "data": {
      "text/plain": [
       "1"
      ]
     },
     "execution_count": 29,
     "metadata": {},
     "output_type": "execute_result"
    }
   ],
   "source": [
    "preds_intersection_test = test.merge(predictions.rename(columns={'article_id': 'predictions'}), how='inner', on='customer_id')\n",
    "preds_intersection_test['correct'] = preds_intersection_test.apply(lambda x: sum(_x in x['predictions'] for _x in x['article_id']), axis=1)\n",
    "preds_intersection_test['correct'].sum()"
   ]
  },
  {
   "cell_type": "code",
   "execution_count": 36,
   "metadata": {},
   "outputs": [
    {
     "data": {
      "text/plain": [
       "array([list([662369012, 741419004, 293433046, 895582015, 291338032, 858800004, 644797005, 652179004, 706837003, 412664025, 720650003, 880481001])],\n",
       "      dtype=object)"
      ]
     },
     "execution_count": 36,
     "metadata": {},
     "output_type": "execute_result"
    }
   ],
   "source": [
    "preds_intersection_test[preds_intersection_test['correct'] == 1]['predictions'].to_numpy()"
   ]
  },
  {
   "cell_type": "code",
   "execution_count": 37,
   "metadata": {},
   "outputs": [
    {
     "data": {
      "text/plain": [
       "array([list([766495009, 863980001, 880481001, 881942001])], dtype=object)"
      ]
     },
     "execution_count": 37,
     "metadata": {},
     "output_type": "execute_result"
    }
   ],
   "source": [
    "preds_intersection_test[preds_intersection_test['correct'] == 1]['article_id'].to_numpy()"
   ]
  },
  {
   "cell_type": "code",
   "execution_count": 39,
   "metadata": {},
   "outputs": [
    {
     "data": {
      "text/html": [
       "<div>\n",
       "<style scoped>\n",
       "    .dataframe tbody tr th:only-of-type {\n",
       "        vertical-align: middle;\n",
       "    }\n",
       "\n",
       "    .dataframe tbody tr th {\n",
       "        vertical-align: top;\n",
       "    }\n",
       "\n",
       "    .dataframe thead th {\n",
       "        text-align: right;\n",
       "    }\n",
       "</style>\n",
       "<table border=\"1\" class=\"dataframe\">\n",
       "  <thead>\n",
       "    <tr style=\"text-align: right;\">\n",
       "      <th></th>\n",
       "      <th>article_id</th>\n",
       "      <th>product_code</th>\n",
       "      <th>product_type_no</th>\n",
       "      <th>graphical_appearance_no</th>\n",
       "      <th>colour_group_code</th>\n",
       "      <th>perceived_colour_value_id</th>\n",
       "      <th>perceived_colour_master_id</th>\n",
       "      <th>department_no</th>\n",
       "      <th>index_code</th>\n",
       "      <th>index_group_no</th>\n",
       "      <th>section_no</th>\n",
       "      <th>garment_group_no</th>\n",
       "    </tr>\n",
       "  </thead>\n",
       "  <tbody>\n",
       "    <tr>\n",
       "      <th>98702</th>\n",
       "      <td>880481001</td>\n",
       "      <td>880481</td>\n",
       "      <td>254</td>\n",
       "      <td>1010016</td>\n",
       "      <td>9</td>\n",
       "      <td>4</td>\n",
       "      <td>5</td>\n",
       "      <td>1643</td>\n",
       "      <td>3</td>\n",
       "      <td>2</td>\n",
       "      <td>51</td>\n",
       "      <td>1002</td>\n",
       "    </tr>\n",
       "  </tbody>\n",
       "</table>\n",
       "</div>"
      ],
      "text/plain": [
       "       article_id  product_code  product_type_no  graphical_appearance_no  \\\n",
       "98702   880481001        880481              254                  1010016   \n",
       "\n",
       "       colour_group_code  perceived_colour_value_id  \\\n",
       "98702                  9                          4   \n",
       "\n",
       "       perceived_colour_master_id  department_no  index_code  index_group_no  \\\n",
       "98702                           5           1643           3               2   \n",
       "\n",
       "       section_no  garment_group_no  \n",
       "98702          51              1002  "
      ]
     },
     "execution_count": 39,
     "metadata": {},
     "output_type": "execute_result"
    }
   ],
   "source": [
    "selected_articles[selected_articles['article_id'] == 880481001]"
   ]
  },
  {
   "cell_type": "code",
   "execution_count": 41,
   "metadata": {},
   "outputs": [],
   "source": [
    "similar = model.get_similar_items([880481001]).to_dataframe()"
   ]
  },
  {
   "cell_type": "code",
   "execution_count": 43,
   "metadata": {},
   "outputs": [
    {
     "data": {
      "text/html": [
       "<div>\n",
       "<style scoped>\n",
       "    .dataframe tbody tr th:only-of-type {\n",
       "        vertical-align: middle;\n",
       "    }\n",
       "\n",
       "    .dataframe tbody tr th {\n",
       "        vertical-align: top;\n",
       "    }\n",
       "\n",
       "    .dataframe thead th {\n",
       "        text-align: right;\n",
       "    }\n",
       "</style>\n",
       "<table border=\"1\" class=\"dataframe\">\n",
       "  <thead>\n",
       "    <tr style=\"text-align: right;\">\n",
       "      <th></th>\n",
       "      <th>article_id</th>\n",
       "      <th>product_code</th>\n",
       "      <th>product_type_no</th>\n",
       "      <th>graphical_appearance_no</th>\n",
       "      <th>colour_group_code</th>\n",
       "      <th>perceived_colour_value_id</th>\n",
       "      <th>perceived_colour_master_id</th>\n",
       "      <th>department_no</th>\n",
       "      <th>index_code</th>\n",
       "      <th>index_group_no</th>\n",
       "      <th>section_no</th>\n",
       "      <th>garment_group_no</th>\n",
       "    </tr>\n",
       "  </thead>\n",
       "  <tbody>\n",
       "    <tr>\n",
       "      <th>58507</th>\n",
       "      <td>720125051</td>\n",
       "      <td>720125</td>\n",
       "      <td>273</td>\n",
       "      <td>1010005</td>\n",
       "      <td>73</td>\n",
       "      <td>4</td>\n",
       "      <td>2</td>\n",
       "      <td>8310</td>\n",
       "      <td>9</td>\n",
       "      <td>26</td>\n",
       "      <td>5</td>\n",
       "      <td>1005</td>\n",
       "    </tr>\n",
       "    <tr>\n",
       "      <th>69763</th>\n",
       "      <td>758064001</td>\n",
       "      <td>758064</td>\n",
       "      <td>298</td>\n",
       "      <td>1010001</td>\n",
       "      <td>19</td>\n",
       "      <td>2</td>\n",
       "      <td>20</td>\n",
       "      <td>4242</td>\n",
       "      <td>1</td>\n",
       "      <td>1</td>\n",
       "      <td>60</td>\n",
       "      <td>1018</td>\n",
       "    </tr>\n",
       "    <tr>\n",
       "      <th>73492</th>\n",
       "      <td>772031001</td>\n",
       "      <td>772031</td>\n",
       "      <td>298</td>\n",
       "      <td>1010016</td>\n",
       "      <td>19</td>\n",
       "      <td>2</td>\n",
       "      <td>20</td>\n",
       "      <td>4242</td>\n",
       "      <td>1</td>\n",
       "      <td>1</td>\n",
       "      <td>60</td>\n",
       "      <td>1018</td>\n",
       "    </tr>\n",
       "    <tr>\n",
       "      <th>73493</th>\n",
       "      <td>772032001</td>\n",
       "      <td>772032</td>\n",
       "      <td>59</td>\n",
       "      <td>1010016</td>\n",
       "      <td>19</td>\n",
       "      <td>2</td>\n",
       "      <td>20</td>\n",
       "      <td>4242</td>\n",
       "      <td>1</td>\n",
       "      <td>1</td>\n",
       "      <td>60</td>\n",
       "      <td>1018</td>\n",
       "    </tr>\n",
       "    <tr>\n",
       "      <th>78256</th>\n",
       "      <td>793185029</td>\n",
       "      <td>793185</td>\n",
       "      <td>74</td>\n",
       "      <td>1010001</td>\n",
       "      <td>13</td>\n",
       "      <td>2</td>\n",
       "      <td>11</td>\n",
       "      <td>4343</td>\n",
       "      <td>2</td>\n",
       "      <td>1</td>\n",
       "      <td>66</td>\n",
       "      <td>1019</td>\n",
       "    </tr>\n",
       "    <tr>\n",
       "      <th>87279</th>\n",
       "      <td>826955001</td>\n",
       "      <td>826955</td>\n",
       "      <td>286</td>\n",
       "      <td>1010016</td>\n",
       "      <td>9</td>\n",
       "      <td>4</td>\n",
       "      <td>5</td>\n",
       "      <td>1338</td>\n",
       "      <td>1</td>\n",
       "      <td>1</td>\n",
       "      <td>61</td>\n",
       "      <td>1017</td>\n",
       "    </tr>\n",
       "    <tr>\n",
       "      <th>87280</th>\n",
       "      <td>826955002</td>\n",
       "      <td>826955</td>\n",
       "      <td>286</td>\n",
       "      <td>1010016</td>\n",
       "      <td>10</td>\n",
       "      <td>3</td>\n",
       "      <td>9</td>\n",
       "      <td>1338</td>\n",
       "      <td>1</td>\n",
       "      <td>1</td>\n",
       "      <td>61</td>\n",
       "      <td>1017</td>\n",
       "    </tr>\n",
       "    <tr>\n",
       "      <th>87283</th>\n",
       "      <td>826955011</td>\n",
       "      <td>826955</td>\n",
       "      <td>286</td>\n",
       "      <td>1010016</td>\n",
       "      <td>13</td>\n",
       "      <td>2</td>\n",
       "      <td>11</td>\n",
       "      <td>1338</td>\n",
       "      <td>1</td>\n",
       "      <td>1</td>\n",
       "      <td>61</td>\n",
       "      <td>1017</td>\n",
       "    </tr>\n",
       "    <tr>\n",
       "      <th>87284</th>\n",
       "      <td>826955013</td>\n",
       "      <td>826955</td>\n",
       "      <td>286</td>\n",
       "      <td>1010016</td>\n",
       "      <td>52</td>\n",
       "      <td>7</td>\n",
       "      <td>4</td>\n",
       "      <td>1338</td>\n",
       "      <td>1</td>\n",
       "      <td>1</td>\n",
       "      <td>61</td>\n",
       "      <td>1017</td>\n",
       "    </tr>\n",
       "    <tr>\n",
       "      <th>87458</th>\n",
       "      <td>827957002</td>\n",
       "      <td>827957</td>\n",
       "      <td>306</td>\n",
       "      <td>1010016</td>\n",
       "      <td>9</td>\n",
       "      <td>4</td>\n",
       "      <td>5</td>\n",
       "      <td>1338</td>\n",
       "      <td>1</td>\n",
       "      <td>1</td>\n",
       "      <td>61</td>\n",
       "      <td>1017</td>\n",
       "    </tr>\n",
       "    <tr>\n",
       "      <th>98702</th>\n",
       "      <td>880481001</td>\n",
       "      <td>880481</td>\n",
       "      <td>254</td>\n",
       "      <td>1010016</td>\n",
       "      <td>9</td>\n",
       "      <td>4</td>\n",
       "      <td>5</td>\n",
       "      <td>1643</td>\n",
       "      <td>3</td>\n",
       "      <td>2</td>\n",
       "      <td>51</td>\n",
       "      <td>1002</td>\n",
       "    </tr>\n",
       "  </tbody>\n",
       "</table>\n",
       "</div>"
      ],
      "text/plain": [
       "       article_id  product_code  product_type_no  graphical_appearance_no  \\\n",
       "58507   720125051        720125              273                  1010005   \n",
       "69763   758064001        758064              298                  1010001   \n",
       "73492   772031001        772031              298                  1010016   \n",
       "73493   772032001        772032               59                  1010016   \n",
       "78256   793185029        793185               74                  1010001   \n",
       "87279   826955001        826955              286                  1010016   \n",
       "87280   826955002        826955              286                  1010016   \n",
       "87283   826955011        826955              286                  1010016   \n",
       "87284   826955013        826955              286                  1010016   \n",
       "87458   827957002        827957              306                  1010016   \n",
       "98702   880481001        880481              254                  1010016   \n",
       "\n",
       "       colour_group_code  perceived_colour_value_id  \\\n",
       "58507                 73                          4   \n",
       "69763                 19                          2   \n",
       "73492                 19                          2   \n",
       "73493                 19                          2   \n",
       "78256                 13                          2   \n",
       "87279                  9                          4   \n",
       "87280                 10                          3   \n",
       "87283                 13                          2   \n",
       "87284                 52                          7   \n",
       "87458                  9                          4   \n",
       "98702                  9                          4   \n",
       "\n",
       "       perceived_colour_master_id  department_no  index_code  index_group_no  \\\n",
       "58507                           2           8310           9              26   \n",
       "69763                          20           4242           1               1   \n",
       "73492                          20           4242           1               1   \n",
       "73493                          20           4242           1               1   \n",
       "78256                          11           4343           2               1   \n",
       "87279                           5           1338           1               1   \n",
       "87280                           9           1338           1               1   \n",
       "87283                          11           1338           1               1   \n",
       "87284                           4           1338           1               1   \n",
       "87458                           5           1338           1               1   \n",
       "98702                           5           1643           3               2   \n",
       "\n",
       "       section_no  garment_group_no  \n",
       "58507           5              1005  \n",
       "69763          60              1018  \n",
       "73492          60              1018  \n",
       "73493          60              1018  \n",
       "78256          66              1019  \n",
       "87279          61              1017  \n",
       "87280          61              1017  \n",
       "87283          61              1017  \n",
       "87284          61              1017  \n",
       "87458          61              1017  \n",
       "98702          51              1002  "
      ]
     },
     "execution_count": 43,
     "metadata": {},
     "output_type": "execute_result"
    }
   ],
   "source": [
    "selected_articles[selected_articles['article_id'].isin(similar['similar'].append(pd.Series([880481001])))]"
   ]
  },
  {
   "cell_type": "code",
   "execution_count": 46,
   "metadata": {},
   "outputs": [
    {
     "data": {
      "text/plain": [
       "customer_id                                                       article_id\n",
       "019272f4940035ca856257aeecead172d3faf7315e96d04513a85ab89d407530  826955001     1\n",
       "                                                                  827957002     1\n",
       "0beea9e4ad809faa615082f964a381255899c9e6b99806d7f3f2174639d53810  772031001     2\n",
       "                                                                  772032001     2\n",
       "0dd625f10fefb44ffe057cb38de625de7e7590b8d83461b58a8032a4736ceba0  758064001     1\n",
       "0e15b92db005a0568904a89e5bcf0d6c593b86d7a000312b1a59053fe3847f3a  772031001     1\n",
       "0e7b1cfecec2fbfddbd1ade2be016a3f8899f322e9199a47e58c4a33457da21a  720125051     1\n",
       "13361333975fd47f79fe144a83dfb1baef14b27bb174c0a7d9488bee04402299  772031001     1\n",
       "                                                                  772032001     1\n",
       "140a98e1ced790b986d0bcfb4f60e2df67ba6d5f94ed3492e3a9eb5548936959  827957002     1\n",
       "17ad2dff81d886b0e80289b5fde8464e14c12ef90709f1e18d0193d1004c93be  758064001     1\n",
       "19a4d85b5d7cedae4d000f9ec43928e96914253e1fdd20700114c43a1aacc849  758064001     1\n",
       "1b3af6d17398628c3a0e7d5f347c80ce43856675ee1af5827e6f20d4446a9765  826955001     2\n",
       "23aeb85af5b3c33dc1c3bb1dc0d515c6b592b7d7d7878cdeb7048321929a5105  826955001     1\n",
       "                                                                  827957002     1\n",
       "26e36ebe0b2aea8452eb074b4b2b3e597c821b613a3f00b2010ca70bff676340  826955002     1\n",
       "2740d7a13dede5b0e3861f991004c5167839ef5a3883ea0fc4499324b1a048e5  772032001     1\n",
       "2866517eb23811774bff29710b44d46e41f30cb7050cb09c1747787c2d0dcefd  826955002     2\n",
       "2fd690c02e3f0a1def03a331bfbb133f0d0790af4f013f78d9c5e0e0878d38a7  827957002     1\n",
       "326b5dc3f8ec5d55994ec948dcd3438b89a7ad14821e08d07faf26551201d417  826955011     1\n",
       "                                                                  826955013     4\n",
       "                                                                  880481001     1\n",
       "328fccf80892a0a166c3bb3c422b965e71de0025dac2ed6396da749e1784591d  826955002     2\n",
       "33a11bde13b06e4dd636af2ff71808edb65a376fa9d9b681c6d322881d0135c2  758064001     2\n",
       "34068ccd951ab1d0ad113a1e89958c2fcc81cd43a03139e4e9a8934499df64f1  758064001     1\n",
       "Name: t_dat, dtype: int64"
      ]
     },
     "execution_count": 46,
     "metadata": {},
     "output_type": "execute_result"
    }
   ],
   "source": [
    "inspection = selected_transactions[selected_transactions['article_id'].isin(similar['similar'].append(pd.Series([880481001])))].groupby(['customer_id', 'article_id'])['t_dat'].count()\n",
    "inspection.head(25)"
   ]
  },
  {
   "cell_type": "markdown",
   "metadata": {},
   "source": [
    "## Model 2"
   ]
  },
  {
   "cell_type": "code",
   "execution_count": 24,
   "metadata": {},
   "outputs": [
    {
     "data": {
      "text/html": [
       "<pre>Preparing data set.</pre>"
      ],
      "text/plain": [
       "Preparing data set."
      ]
     },
     "metadata": {},
     "output_type": "display_data"
    },
    {
     "data": {
      "text/html": [
       "<pre>    Data has 162156 observations with 1848 users and 44048 items.</pre>"
      ],
      "text/plain": [
       "    Data has 162156 observations with 1848 users and 44048 items."
      ]
     },
     "metadata": {},
     "output_type": "display_data"
    },
    {
     "data": {
      "text/html": [
       "<pre>    Data prepared in: 0.098725s</pre>"
      ],
      "text/plain": [
       "    Data prepared in: 0.098725s"
      ]
     },
     "metadata": {},
     "output_type": "display_data"
    },
    {
     "data": {
      "text/html": [
       "<pre>Training model from provided data.</pre>"
      ],
      "text/plain": [
       "Training model from provided data."
      ]
     },
     "metadata": {},
     "output_type": "display_data"
    },
    {
     "data": {
      "text/html": [
       "<pre>Gathering per-item and per-user statistics.</pre>"
      ],
      "text/plain": [
       "Gathering per-item and per-user statistics."
      ]
     },
     "metadata": {},
     "output_type": "display_data"
    },
    {
     "data": {
      "text/html": [
       "<pre>+--------------------------------+------------+</pre>"
      ],
      "text/plain": [
       "+--------------------------------+------------+"
      ]
     },
     "metadata": {},
     "output_type": "display_data"
    },
    {
     "data": {
      "text/html": [
       "<pre>| Elapsed Time (Item Statistics) | % Complete |</pre>"
      ],
      "text/plain": [
       "| Elapsed Time (Item Statistics) | % Complete |"
      ]
     },
     "metadata": {},
     "output_type": "display_data"
    },
    {
     "data": {
      "text/html": [
       "<pre>+--------------------------------+------------+</pre>"
      ],
      "text/plain": [
       "+--------------------------------+------------+"
      ]
     },
     "metadata": {},
     "output_type": "display_data"
    },
    {
     "data": {
      "text/html": [
       "<pre>| 1.378ms                        | 54         |</pre>"
      ],
      "text/plain": [
       "| 1.378ms                        | 54         |"
      ]
     },
     "metadata": {},
     "output_type": "display_data"
    },
    {
     "data": {
      "text/html": [
       "<pre>| 10.558ms                       | 100        |</pre>"
      ],
      "text/plain": [
       "| 10.558ms                       | 100        |"
      ]
     },
     "metadata": {},
     "output_type": "display_data"
    },
    {
     "data": {
      "text/html": [
       "<pre>+--------------------------------+------------+</pre>"
      ],
      "text/plain": [
       "+--------------------------------+------------+"
      ]
     },
     "metadata": {},
     "output_type": "display_data"
    },
    {
     "data": {
      "text/html": [
       "<pre>Setting up lookup tables.</pre>"
      ],
      "text/plain": [
       "Setting up lookup tables."
      ]
     },
     "metadata": {},
     "output_type": "display_data"
    },
    {
     "data": {
      "text/html": [
       "<pre>Processing data in 2 passes using dense lookup tables.</pre>"
      ],
      "text/plain": [
       "Processing data in 2 passes using dense lookup tables."
      ]
     },
     "metadata": {},
     "output_type": "display_data"
    },
    {
     "data": {
      "text/html": [
       "<pre>+-------------------------------------+------------------+-----------------+</pre>"
      ],
      "text/plain": [
       "+-------------------------------------+------------------+-----------------+"
      ]
     },
     "metadata": {},
     "output_type": "display_data"
    },
    {
     "data": {
      "text/html": [
       "<pre>| Elapsed Time (Constructing Lookups) | Total % Complete | Items Processed |</pre>"
      ],
      "text/plain": [
       "| Elapsed Time (Constructing Lookups) | Total % Complete | Items Processed |"
      ]
     },
     "metadata": {},
     "output_type": "display_data"
    },
    {
     "data": {
      "text/html": [
       "<pre>+-------------------------------------+------------------+-----------------+</pre>"
      ],
      "text/plain": [
       "+-------------------------------------+------------------+-----------------+"
      ]
     },
     "metadata": {},
     "output_type": "display_data"
    },
    {
     "data": {
      "text/html": [
       "<pre>| 1.83s                               | 0                | 4               |</pre>"
      ],
      "text/plain": [
       "| 1.83s                               | 0                | 4               |"
      ]
     },
     "metadata": {},
     "output_type": "display_data"
    },
    {
     "data": {
      "text/html": [
       "<pre>| 4.06s                               | 100              | 44048           |</pre>"
      ],
      "text/plain": [
       "| 4.06s                               | 100              | 44048           |"
      ]
     },
     "metadata": {},
     "output_type": "display_data"
    },
    {
     "data": {
      "text/html": [
       "<pre>+-------------------------------------+------------------+-----------------+</pre>"
      ],
      "text/plain": [
       "+-------------------------------------+------------------+-----------------+"
      ]
     },
     "metadata": {},
     "output_type": "display_data"
    },
    {
     "data": {
      "text/html": [
       "<pre>Finalizing lookup tables.</pre>"
      ],
      "text/plain": [
       "Finalizing lookup tables."
      ]
     },
     "metadata": {},
     "output_type": "display_data"
    },
    {
     "data": {
      "text/html": [
       "<pre>Generating candidate set for working with new users.</pre>"
      ],
      "text/plain": [
       "Generating candidate set for working with new users."
      ]
     },
     "metadata": {},
     "output_type": "display_data"
    },
    {
     "data": {
      "text/html": [
       "<pre>Finished training in 5.08959s</pre>"
      ],
      "text/plain": [
       "Finished training in 5.08959s"
      ]
     },
     "metadata": {},
     "output_type": "display_data"
    }
   ],
   "source": [
    "model2 = tc.recommender.item_similarity_recommender.create(train, user_id='customer_id', item_id='article_id', target='weights', target_memory_usage=4589934592)"
   ]
  },
  {
   "cell_type": "code",
   "execution_count": 26,
   "metadata": {},
   "outputs": [
    {
     "data": {
      "text/html": [
       "<pre>recommendations finished on 1000/1849 queries. users per second: 12407.9</pre>"
      ],
      "text/plain": [
       "recommendations finished on 1000/1849 queries. users per second: 12407.9"
      ]
     },
     "metadata": {},
     "output_type": "display_data"
    }
   ],
   "source": [
    "predictions = model2.recommend(customers['customer_id'], 12)"
   ]
  },
  {
   "cell_type": "code",
   "execution_count": 27,
   "metadata": {},
   "outputs": [
    {
     "data": {
      "text/plain": [
       "0"
      ]
     },
     "execution_count": 27,
     "metadata": {},
     "output_type": "execute_result"
    }
   ],
   "source": [
    "predictions = predictions.to_dataframe().groupby('customer_id')[['article_id']].agg(lambda x: list(x)).reset_index()\n",
    "test = test.to_dataframe().groupby('customer_id')[['article_id']].agg(lambda x: list(x)).reset_index()\n",
    "preds_intersection_test = test.merge(predictions.rename(columns={'article_id': 'predictions'}), how='inner', on='customer_id')\n",
    "preds_intersection_test['correct'] = preds_intersection_test.apply(lambda x: sum(_x in x['predictions'] for _x in x['article_id']), axis=1)\n",
    "preds_intersection_test['correct'].sum()"
   ]
  },
  {
   "cell_type": "code",
   "execution_count": 28,
   "metadata": {},
   "outputs": [
    {
     "data": {
      "text/html": [
       "<div>\n",
       "<style scoped>\n",
       "    .dataframe tbody tr th:only-of-type {\n",
       "        vertical-align: middle;\n",
       "    }\n",
       "\n",
       "    .dataframe tbody tr th {\n",
       "        vertical-align: top;\n",
       "    }\n",
       "\n",
       "    .dataframe thead th {\n",
       "        text-align: right;\n",
       "    }\n",
       "</style>\n",
       "<table border=\"1\" class=\"dataframe\">\n",
       "  <thead>\n",
       "    <tr style=\"text-align: right;\">\n",
       "      <th></th>\n",
       "      <th>customer_id</th>\n",
       "      <th>article_id</th>\n",
       "    </tr>\n",
       "  </thead>\n",
       "  <tbody>\n",
       "    <tr>\n",
       "      <th>0</th>\n",
       "      <td>00389391b154464ebcf31692b05b45eb7a00f3eb0795e0...</td>\n",
       "      <td>[875672001, 834021006, 671973006, 703046002, 7...</td>\n",
       "    </tr>\n",
       "    <tr>\n",
       "      <th>1</th>\n",
       "      <td>00420ecbf31e3b8acc308220be04c9c1e9b3911bf15e10...</td>\n",
       "      <td>[788222001, 743803005, 783925002, 734647002, 7...</td>\n",
       "    </tr>\n",
       "    <tr>\n",
       "      <th>2</th>\n",
       "      <td>004b58a7522e489246095b8073993b8e4603cb0ec7fda7...</td>\n",
       "      <td>[752484002, 762158002, 759020003, 672758002, 6...</td>\n",
       "    </tr>\n",
       "    <tr>\n",
       "      <th>3</th>\n",
       "      <td>006fb99924ac083e0d98f8af637a934a75adaeee74f1c0...</td>\n",
       "      <td>[805144001, 509893021, 443860005, 667985014, 6...</td>\n",
       "    </tr>\n",
       "    <tr>\n",
       "      <th>4</th>\n",
       "      <td>00993551a798a0c197a5c1247ebd975079b7088b0a9ce4...</td>\n",
       "      <td>[669916001, 624645009, 575214004, 595841002, 6...</td>\n",
       "    </tr>\n",
       "  </tbody>\n",
       "</table>\n",
       "</div>"
      ],
      "text/plain": [
       "                                         customer_id  \\\n",
       "0  00389391b154464ebcf31692b05b45eb7a00f3eb0795e0...   \n",
       "1  00420ecbf31e3b8acc308220be04c9c1e9b3911bf15e10...   \n",
       "2  004b58a7522e489246095b8073993b8e4603cb0ec7fda7...   \n",
       "3  006fb99924ac083e0d98f8af637a934a75adaeee74f1c0...   \n",
       "4  00993551a798a0c197a5c1247ebd975079b7088b0a9ce4...   \n",
       "\n",
       "                                          article_id  \n",
       "0  [875672001, 834021006, 671973006, 703046002, 7...  \n",
       "1  [788222001, 743803005, 783925002, 734647002, 7...  \n",
       "2  [752484002, 762158002, 759020003, 672758002, 6...  \n",
       "3  [805144001, 509893021, 443860005, 667985014, 6...  \n",
       "4  [669916001, 624645009, 575214004, 595841002, 6...  "
      ]
     },
     "execution_count": 28,
     "metadata": {},
     "output_type": "execute_result"
    }
   ],
   "source": [
    "predictions.head()"
   ]
  },
  {
   "cell_type": "code",
   "execution_count": 29,
   "metadata": {},
   "outputs": [],
   "source": [
    "similar = model2.get_similar_items([875672001])"
   ]
  },
  {
   "cell_type": "code",
   "execution_count": 30,
   "metadata": {},
   "outputs": [
    {
     "data": {
      "text/html": [
       "<div style=\"max-height:1000px;max-width:1500px;overflow:auto;\"><table frame=\"box\" rules=\"cols\">\n",
       "    <tr>\n",
       "        <th style=\"padding-left: 1em; padding-right: 1em; text-align: center\">article_id</th>\n",
       "        <th style=\"padding-left: 1em; padding-right: 1em; text-align: center\">similar</th>\n",
       "        <th style=\"padding-left: 1em; padding-right: 1em; text-align: center\">score</th>\n",
       "        <th style=\"padding-left: 1em; padding-right: 1em; text-align: center\">rank</th>\n",
       "    </tr>\n",
       "    <tr>\n",
       "        <td style=\"padding-left: 1em; padding-right: 1em; text-align: center; vertical-align: top\">875672001</td>\n",
       "        <td style=\"padding-left: 1em; padding-right: 1em; text-align: center; vertical-align: top\">826069002</td>\n",
       "        <td style=\"padding-left: 1em; padding-right: 1em; text-align: center; vertical-align: top\">0.5</td>\n",
       "        <td style=\"padding-left: 1em; padding-right: 1em; text-align: center; vertical-align: top\">1</td>\n",
       "    </tr>\n",
       "    <tr>\n",
       "        <td style=\"padding-left: 1em; padding-right: 1em; text-align: center; vertical-align: top\">875672001</td>\n",
       "        <td style=\"padding-left: 1em; padding-right: 1em; text-align: center; vertical-align: top\">546579006</td>\n",
       "        <td style=\"padding-left: 1em; padding-right: 1em; text-align: center; vertical-align: top\">0.5</td>\n",
       "        <td style=\"padding-left: 1em; padding-right: 1em; text-align: center; vertical-align: top\">2</td>\n",
       "    </tr>\n",
       "    <tr>\n",
       "        <td style=\"padding-left: 1em; padding-right: 1em; text-align: center; vertical-align: top\">875672001</td>\n",
       "        <td style=\"padding-left: 1em; padding-right: 1em; text-align: center; vertical-align: top\">506098011</td>\n",
       "        <td style=\"padding-left: 1em; padding-right: 1em; text-align: center; vertical-align: top\">0.5</td>\n",
       "        <td style=\"padding-left: 1em; padding-right: 1em; text-align: center; vertical-align: top\">3</td>\n",
       "    </tr>\n",
       "    <tr>\n",
       "        <td style=\"padding-left: 1em; padding-right: 1em; text-align: center; vertical-align: top\">875672001</td>\n",
       "        <td style=\"padding-left: 1em; padding-right: 1em; text-align: center; vertical-align: top\">772193001</td>\n",
       "        <td style=\"padding-left: 1em; padding-right: 1em; text-align: center; vertical-align: top\">0.5</td>\n",
       "        <td style=\"padding-left: 1em; padding-right: 1em; text-align: center; vertical-align: top\">4</td>\n",
       "    </tr>\n",
       "    <tr>\n",
       "        <td style=\"padding-left: 1em; padding-right: 1em; text-align: center; vertical-align: top\">875672001</td>\n",
       "        <td style=\"padding-left: 1em; padding-right: 1em; text-align: center; vertical-align: top\">805983001</td>\n",
       "        <td style=\"padding-left: 1em; padding-right: 1em; text-align: center; vertical-align: top\">0.5</td>\n",
       "        <td style=\"padding-left: 1em; padding-right: 1em; text-align: center; vertical-align: top\">5</td>\n",
       "    </tr>\n",
       "    <tr>\n",
       "        <td style=\"padding-left: 1em; padding-right: 1em; text-align: center; vertical-align: top\">875672001</td>\n",
       "        <td style=\"padding-left: 1em; padding-right: 1em; text-align: center; vertical-align: top\">819207001</td>\n",
       "        <td style=\"padding-left: 1em; padding-right: 1em; text-align: center; vertical-align: top\">0.5</td>\n",
       "        <td style=\"padding-left: 1em; padding-right: 1em; text-align: center; vertical-align: top\">6</td>\n",
       "    </tr>\n",
       "    <tr>\n",
       "        <td style=\"padding-left: 1em; padding-right: 1em; text-align: center; vertical-align: top\">875672001</td>\n",
       "        <td style=\"padding-left: 1em; padding-right: 1em; text-align: center; vertical-align: top\">843869002</td>\n",
       "        <td style=\"padding-left: 1em; padding-right: 1em; text-align: center; vertical-align: top\">0.5</td>\n",
       "        <td style=\"padding-left: 1em; padding-right: 1em; text-align: center; vertical-align: top\">7</td>\n",
       "    </tr>\n",
       "    <tr>\n",
       "        <td style=\"padding-left: 1em; padding-right: 1em; text-align: center; vertical-align: top\">875672001</td>\n",
       "        <td style=\"padding-left: 1em; padding-right: 1em; text-align: center; vertical-align: top\">855126001</td>\n",
       "        <td style=\"padding-left: 1em; padding-right: 1em; text-align: center; vertical-align: top\">0.5</td>\n",
       "        <td style=\"padding-left: 1em; padding-right: 1em; text-align: center; vertical-align: top\">8</td>\n",
       "    </tr>\n",
       "    <tr>\n",
       "        <td style=\"padding-left: 1em; padding-right: 1em; text-align: center; vertical-align: top\">875672001</td>\n",
       "        <td style=\"padding-left: 1em; padding-right: 1em; text-align: center; vertical-align: top\">846347003</td>\n",
       "        <td style=\"padding-left: 1em; padding-right: 1em; text-align: center; vertical-align: top\">0.5</td>\n",
       "        <td style=\"padding-left: 1em; padding-right: 1em; text-align: center; vertical-align: top\">9</td>\n",
       "    </tr>\n",
       "    <tr>\n",
       "        <td style=\"padding-left: 1em; padding-right: 1em; text-align: center; vertical-align: top\">875672001</td>\n",
       "        <td style=\"padding-left: 1em; padding-right: 1em; text-align: center; vertical-align: top\">557051001</td>\n",
       "        <td style=\"padding-left: 1em; padding-right: 1em; text-align: center; vertical-align: top\">0.5</td>\n",
       "        <td style=\"padding-left: 1em; padding-right: 1em; text-align: center; vertical-align: top\">10</td>\n",
       "    </tr>\n",
       "</table>\n",
       "[10 rows x 4 columns]<br/>\n",
       "</div>"
      ],
      "text/plain": [
       "Columns:\n",
       "\tarticle_id\tint\n",
       "\tsimilar\tint\n",
       "\tscore\tfloat\n",
       "\trank\tint\n",
       "\n",
       "Rows: 10\n",
       "\n",
       "Data:\n",
       "+------------+-----------+-------+------+\n",
       "| article_id |  similar  | score | rank |\n",
       "+------------+-----------+-------+------+\n",
       "| 875672001  | 826069002 |  0.5  |  1   |\n",
       "| 875672001  | 546579006 |  0.5  |  2   |\n",
       "| 875672001  | 506098011 |  0.5  |  3   |\n",
       "| 875672001  | 772193001 |  0.5  |  4   |\n",
       "| 875672001  | 805983001 |  0.5  |  5   |\n",
       "| 875672001  | 819207001 |  0.5  |  6   |\n",
       "| 875672001  | 843869002 |  0.5  |  7   |\n",
       "| 875672001  | 855126001 |  0.5  |  8   |\n",
       "| 875672001  | 846347003 |  0.5  |  9   |\n",
       "| 875672001  | 557051001 |  0.5  |  10  |\n",
       "+------------+-----------+-------+------+\n",
       "[10 rows x 4 columns]"
      ]
     },
     "execution_count": 30,
     "metadata": {},
     "output_type": "execute_result"
    }
   ],
   "source": [
    "similar"
   ]
  },
  {
   "cell_type": "code",
   "execution_count": null,
   "metadata": {},
   "outputs": [],
   "source": []
  }
 ],
 "metadata": {
  "interpreter": {
   "hash": "916dbcbb3f70747c44a77c7bcd40155683ae19c65e1c03b4aa3499c5328201f1"
  },
  "kernelspec": {
   "display_name": "Python 3.8.10 64-bit",
   "language": "python",
   "name": "python3"
  },
  "language_info": {
   "codemirror_mode": {
    "name": "ipython",
    "version": 3
   },
   "file_extension": ".py",
   "mimetype": "text/x-python",
   "name": "python",
   "nbconvert_exporter": "python",
   "pygments_lexer": "ipython3",
   "version": "3.8.10"
  },
  "orig_nbformat": 4
 },
 "nbformat": 4,
 "nbformat_minor": 2
}
